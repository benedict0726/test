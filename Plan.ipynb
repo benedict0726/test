{
  "nbformat": 4,
  "nbformat_minor": 0,
  "metadata": {
    "colab": {
      "provenance": [],
      "authorship_tag": "ABX9TyO0ZiTMX4rU9Ea7lXwj0EWe",
      "include_colab_link": true
    },
    "kernelspec": {
      "name": "python3",
      "display_name": "Python 3"
    },
    "language_info": {
      "name": "python"
    }
  },
  "cells": [
    {
      "cell_type": "markdown",
      "metadata": {
        "id": "view-in-github",
        "colab_type": "text"
      },
      "source": [
        "<a href=\"https://colab.research.google.com/github/benedict0726/test/blob/main/Plan.ipynb\" target=\"_parent\"><img src=\"https://colab.research.google.com/assets/colab-badge.svg\" alt=\"Open In Colab\"/></a>"
      ]
    },
    {
      "cell_type": "code",
      "source": [
        "##總金額\n",
        "\n",
        "#輸入\n",
        "a = input(\"輸入本金:\") #principal\n",
        "b = input(\"輸入年化利率(通常為13%-17%):\") #rate 小數形式輸入!\n",
        "c = input(\"輸入分期期數:\") #periods\n",
        "\n",
        "#轉換\n",
        "a1 = int(a)\n",
        "b1 = float(b)\n",
        "c1 = int(c)\n",
        "\n",
        "#計算\n",
        "d = a1 * b1 / c1 #interest\n",
        "e = a1 / c1 + d #repayment\n",
        "TR = e * c1 #total_repayment\n",
        "\n",
        "print(f\"每期還款金額：{e:.2f}元\") #取後兩位小數\n",
        "print(f\"總還款金額：{TR:.2f}元\")"
      ],
      "metadata": {
        "colab": {
          "base_uri": "https://localhost:8080/"
        },
        "id": "QZ5gyQIooPKI",
        "outputId": "fe878e0c-0a34-45d6-b3e3-55552b0296a3"
      },
      "execution_count": null,
      "outputs": [
        {
          "output_type": "stream",
          "name": "stdout",
          "text": [
            "輸入本金:29900\n",
            "輸入年化利率(通常為13%-17%):0.15\n",
            "輸入分期期數:24\n",
            "每期還款金額：1432.71元\n",
            "總還款金額：34385.00元\n"
          ]
        }
      ]
    },
    {
      "cell_type": "code",
      "source": [],
      "metadata": {
        "id": "ZHvtox9NzM6-"
      },
      "execution_count": null,
      "outputs": []
    },
    {
      "cell_type": "code",
      "source": [
        "#Value\n",
        "\n",
        "a = input(\"輸入本金:\") #principal\n",
        "b = input(\"輸入全年通膨率(2023為0.0295):\") # inflation_rate\n",
        "\n",
        "a1 = int(a)\n",
        "b1 = float(b)\n",
        "c = a1 * (1 - b1)\n",
        "\n",
        "print(f\"價值：{c:.2f}元\")"
      ],
      "metadata": {
        "colab": {
          "base_uri": "https://localhost:8080/"
        },
        "id": "HptCcta0tNRN",
        "outputId": "f73e9a38-bb0c-467d-eda0-3007996a1030"
      },
      "execution_count": null,
      "outputs": [
        {
          "output_type": "stream",
          "name": "stdout",
          "text": [
            "輸入本金:29900\n",
            "輸入全年通膨率(2023為0.0295):0.0295\n",
            "價值：29017.95元\n"
          ]
        }
      ]
    }
  ]
}